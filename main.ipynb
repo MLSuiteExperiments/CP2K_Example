{
 "cells": [
  {
   "cell_type": "code",
   "execution_count": 1,
   "id": "591014a7-1ffe-4bb0-8055-77e42e2cc0ef",
   "metadata": {},
   "outputs": [],
   "source": [
    "import ase.io\n",
    "import znlib\n",
    "import pathlib\n",
    "import random\n",
    "\n",
    "random.seed(42)"
   ]
  },
  {
   "cell_type": "markdown",
   "id": "0c98ed28-35da-4f0b-aa64-44752ba107d7",
   "metadata": {},
   "source": [
    "# 1. Create some data using ASE"
   ]
  },
  {
   "cell_type": "code",
   "execution_count": 2,
   "id": "16c7e5fa-7f23-4450-a25d-4e9817d9a8f6",
   "metadata": {},
   "outputs": [],
   "source": [
    "atoms = ase.Atoms(\n",
    "        \"Si8\",\n",
    "        positions=[\n",
    "            (0.000000000, 0.000000000, 0.000000000),\n",
    "            (0.000000000, 2.715348700, 2.715348700),\n",
    "            (2.715348700, 2.715348700, 0.000000000),\n",
    "            (2.715348700, 0.000000000, 2.715348700),\n",
    "            (4.073023100, 1.357674400, 4.073023100),\n",
    "            (1.357674400, 1.357674400, 1.357674400),\n",
    "            (1.357674400, 4.073023100, 4.073023100),\n",
    "            (4.073023100, 4.073023100, 1.357674400),\n",
    "        ],\n",
    "        cell=(5.430697500, 5.430697500, 5.430697500),\n",
    "        pbc=True\n",
    "    )"
   ]
  },
  {
   "cell_type": "code",
   "execution_count": 3,
   "id": "7b8f73d7-f6bd-4361-a523-f6a18549f36b",
   "metadata": {},
   "outputs": [],
   "source": [
    "for idx in range(5):\n",
    "    file = pathlib.Path(\"configurations\", f\"{str(idx).zfill(3)}.extxyz\")\n",
    "    atoms.rattle(stdev=0.01)\n",
    "    ase.io.write(file, atoms)"
   ]
  },
  {
   "cell_type": "markdown",
   "id": "c813b03c-0060-48d1-8992-0728548d4efb",
   "metadata": {},
   "source": [
    "## Using the DVC Cache\n",
    "We don't want to have the data in our repository so we use `dvc add <files>` to track them with DVC. "
   ]
  },
  {
   "cell_type": "code",
   "execution_count": 4,
   "id": "6134fbd8-fcb1-478b-9168-58a07989c266",
   "metadata": {
    "tags": []
   },
   "outputs": [
    {
     "name": "stdout",
     "output_type": "stream",
     "text": [
      "\u001b[2K\u001b[32m⠸\u001b[0m Checking graph                                                   \u001b[32m⠋\u001b[0m Collecting stages from the workspace\n",
      "Adding...                                                                       \n",
      "!\u001b[A\n",
      "Building data objects from configurations             |0.00 [00:00,      ?obj/s]\u001b[A\n",
      "                                                                                \u001b[A\n",
      "!\u001b[A\n",
      "Building data objects from configurations             |0.00 [00:00,      ?obj/s]\u001b[A\n",
      "                                                                                \u001b[A\n",
      "!\u001b[A\n",
      "  0% Checking cache in '/tikhome/fzills/PycharmProjects/CP2K_Example/.dvc/cache'\u001b[A\n",
      "                                                                                \u001b[A\n",
      "!\u001b[A\n",
      "Building data objects from configurations             |0.00 [00:00,      ?obj/s]\u001b[A\n",
      "100% Adding...|████████████████████████████████████████|1/1 [00:00,  3.13file/s]\u001b[A\n",
      "\n",
      "To track the changes with git, run:\n",
      "\n",
      "\tgit add configurations.dvc\n",
      "\n",
      "To enable auto staging, run:\n",
      "\n",
      "\tdvc config core.autostage true\n",
      "\u001b[0m"
     ]
    }
   ],
   "source": [
    "!dvc add configurations/"
   ]
  },
  {
   "cell_type": "markdown",
   "id": "e7dfc856-796d-419b-b8cb-dfbd61734aba",
   "metadata": {},
   "source": [
    "# Create an Workflow\n",
    "\n",
    "1. we use `znlib.atomistic.FileToASE` to convert the raw files into ASE Atoms objects\n",
    "2. we use `znlib.atomistic.CP2KNode` to compute energies, forces and stress of each `ase.Atoms` object.\n",
    "    - On the first run we need to guess the Wavefunction\n",
    "    - On all subsequent runs we use the Wavefunction from the first run as a restart point. If we change the first run, this will affect all other runs! Consider using the first run only as a restart point for performance if you might want to change it later."
   ]
  },
  {
   "cell_type": "code",
   "execution_count": 5,
   "id": "bcda816d-2606-4e45-8aa8-02cb2c90cbda",
   "metadata": {},
   "outputs": [
    {
     "name": "stderr",
     "output_type": "stream",
     "text": [
      "The File you are adding as a dependency does not seem to be tracked by DVC. Please run 'dvc add configurations/000.extxyz' to avoid tracking the file directly with GIT.\n",
      "The File you are adding as a dependency does not seem to be tracked by DVC. Please run 'dvc add configurations/002.extxyz' to avoid tracking the file directly with GIT.\n",
      "The File you are adding as a dependency does not seem to be tracked by DVC. Please run 'dvc add configurations/001.extxyz' to avoid tracking the file directly with GIT.\n",
      "The File you are adding as a dependency does not seem to be tracked by DVC. Please run 'dvc add configurations/004.extxyz' to avoid tracking the file directly with GIT.\n",
      "The File you are adding as a dependency does not seem to be tracked by DVC. Please run 'dvc add configurations/003.extxyz' to avoid tracking the file directly with GIT.\n",
      "The File you are adding as a dependency does not seem to be tracked by DVC. Please run 'dvc add configurations/005.extxyz' to avoid tracking the file directly with GIT.\n"
     ]
    }
   ],
   "source": [
    "data_nodes = []\n",
    "cp2k_nodes = []\n",
    "\n",
    "for idx, file in enumerate(pathlib.Path(\"configurations/\").glob(\"*.extxyz\")):\n",
    "    data = znlib.atomistic.FileToASE(file=file, name=f\"atoms_{idx}\")\n",
    "    data_nodes.append(data)\n",
    "    cp2k = znlib.atomistic.CP2KNode(\n",
    "            atoms=data @ \"atoms\",\n",
    "            input_file=\"cp2k.yaml\",\n",
    "            dependencies=[\"BASIS_SET\", \"GTH_POTENTIALS\"],\n",
    "            wfn_restart=cp2k_nodes[0].wfn_restart_file if len(cp2k_nodes) > 0 else None,\n",
    "            name=f\"cp2k_{idx}\",\n",
    "            cp2k_shell=\"mpirun cp2k_shell.psmp\"\n",
    "        )\n",
    "    cp2k_nodes.append(cp2k)"
   ]
  },
  {
   "cell_type": "markdown",
   "id": "5b881c3d-0bce-4609-881e-78e014cd0bd1",
   "metadata": {},
   "source": [
    "We write the graph for all the Nodes we created so far."
   ]
  },
  {
   "cell_type": "code",
   "execution_count": 6,
   "id": "c17aed55-2a43-4ed2-ad9a-3b02dac5cfe2",
   "metadata": {},
   "outputs": [
    {
     "name": "stdout",
     "output_type": "stream",
     "text": [
      "2022-11-10 09:20:36,769 (WARNING): Running DVC command: 'dvc stage add -n atoms_0 ...'\n",
      "2022-11-10 09:20:39,950 (WARNING): Running DVC command: 'dvc stage add -n atoms_1 ...'\n",
      "2022-11-10 09:20:43,010 (WARNING): Running DVC command: 'dvc stage add -n atoms_2 ...'\n",
      "2022-11-10 09:20:46,036 (WARNING): Running DVC command: 'dvc stage add -n atoms_3 ...'\n",
      "2022-11-10 09:20:49,334 (WARNING): Running DVC command: 'dvc stage add -n atoms_4 ...'\n",
      "2022-11-10 09:20:52,604 (WARNING): Running DVC command: 'dvc stage add -n atoms_5 ...'\n",
      "2022-11-10 09:20:55,888 (WARNING): Running DVC command: 'dvc stage add -n cp2k_0 ...'\n",
      "2022-11-10 09:20:59,115 (WARNING): Running DVC command: 'dvc stage add -n cp2k_1 ...'\n",
      "2022-11-10 09:21:02,538 (WARNING): Running DVC command: 'dvc stage add -n cp2k_2 ...'\n",
      "2022-11-10 09:21:06,810 (WARNING): Running DVC command: 'dvc stage add -n cp2k_3 ...'\n",
      "2022-11-10 09:21:10,009 (WARNING): Running DVC command: 'dvc stage add -n cp2k_4 ...'\n",
      "2022-11-10 09:21:13,298 (WARNING): Running DVC command: 'dvc stage add -n cp2k_5 ...'\n"
     ]
    },
    {
     "data": {
      "text/plain": [
       "[None, None, None, None, None, None]"
      ]
     },
     "execution_count": 6,
     "metadata": {},
     "output_type": "execute_result"
    }
   ],
   "source": [
    "[x.write_graph() for x in data_nodes]\n",
    "[x.write_graph() for x in cp2k_nodes]"
   ]
  },
  {
   "cell_type": "code",
   "execution_count": 7,
   "id": "3ccb02c4-733d-4030-92ff-366237bd4a79",
   "metadata": {
    "collapsed": true,
    "jupyter": {
     "outputs_hidden": true
    },
    "tags": []
   },
   "outputs": [
    {
     "name": "stdout",
     "output_type": "stream",
     "text": [
      "'configurations.dvc' didn't change, skipping                                    \n",
      "Stage 'atoms_5' didn't change, skipping\n",
      "Stage 'atoms_0' didn't change, skipping\n",
      "Running stage 'cp2k_0':\n",
      "> python3 -c \"from znlib.atomistic.cp2k import CP2KNode; CP2KNode.load(name='cp2k_0').run_and_save()\" \n",
      "Writing atoms to nodes/cp2k_0/outputs.db: 100%|███| 1/1 [00:00<00:00, 11.40it/s]\n",
      "  0% Transferring|                                   |0/4 [00:00<?,     ?file/s]\n",
      "!\u001b[A\n",
      "  0%|          |cp2k.inp                           0.00/? [00:00<?,        ?B/s]\u001b[A\n",
      "                                                                                \u001b[A\n",
      "  0%|          |cp2k.out                           0.00/? [00:00<?,        ?B/s]\u001b[A\n",
      "                                                                                \u001b[A\n",
      "!\u001b[A\n",
      "  0%|          |cp2k-RESTART.wfn                   0.00/? [00:00<?,        ?B/s]\u001b[A\n",
      "                                                                                \u001b[A\n",
      "!\u001b[A\n",
      "  0%|          |memory://.nZBBWzBGbdhJqt3Hyrx5wC.tm0.00/? [00:00<?,        ?B/s]\u001b[A\n",
      "  0%|          |memory://.nZBBWzBGbdhJqt3Hyrx5wC.0.00/212 [00:00<?,        ?B/s]\u001b[A\n",
      "\n",
      "!\u001b[A\u001b[A\n",
      "\n",
      "  0%|          |.nZBBWzBGbdhJqt3Hyrx5wC.tmp        0.00/? [00:00<?,        ?B/s]\u001b[A\u001b[A\n",
      "                                                                                \u001b[A\n",
      "\n",
      "  0% Transferring|                                   |0/1 [00:00<?,     ?file/s]\u001b[A\u001b[A\n",
      "!\u001b[A\n",
      "  0%|          |outputs.db                         0.00/? [00:00<?,        ?B/s]\u001b[A\n",
      "Updating lock file 'dvc.lock'                                                   \u001b[A\n",
      "\n",
      "Running stage 'cp2k_5':\n",
      "> python3 -c \"from znlib.atomistic.cp2k import CP2KNode; CP2KNode.load(name='cp2k_5').run_and_save()\" \n",
      "Writing atoms to nodes/cp2k_5/outputs.db: 100%|███| 1/1 [00:00<00:00, 12.35it/s]\n",
      "  0% Transferring|                                   |0/4 [00:00<?,     ?file/s]\n",
      "!\u001b[A\n",
      "  0%|          |cp2k.inp                           0.00/? [00:00<?,        ?B/s]\u001b[A\n",
      "\n",
      "  0%|          |cp2k-RESTART.wfn                   0.00/? [00:00<?,        ?B/s]\u001b[A\u001b[A\n",
      "                                                                                \u001b[A\n",
      "\n",
      "                                                                                \u001b[A\u001b[A\n",
      "!\u001b[A\n",
      "  0%|          |cp2k.out                           0.00/? [00:00<?,        ?B/s]\u001b[A\n",
      "                                                                                \u001b[A\n",
      "!\u001b[A\n",
      "  0%|          |memory://.BBbUjd6hJCNjG8z2FTipYi.tm0.00/? [00:00<?,        ?B/s]\u001b[A\n",
      "  0%|          |memory://.BBbUjd6hJCNjG8z2FTipYi.0.00/294 [00:00<?,        ?B/s]\u001b[A\n",
      "\n",
      "!\u001b[A\u001b[A\n",
      "\n",
      "  0%|          |.BBbUjd6hJCNjG8z2FTipYi.tmp        0.00/? [00:00<?,        ?B/s]\u001b[A\u001b[A\n",
      "                                                                                \u001b[A\n",
      "\n",
      "  0% Transferring|                                   |0/1 [00:00<?,     ?file/s]\u001b[A\u001b[A\n",
      "!\u001b[A\n",
      "  0%|          |outputs.db                         0.00/? [00:00<?,        ?B/s]\u001b[A\n",
      "Updating lock file 'dvc.lock'                                                   \u001b[A\n",
      "\n",
      "Running stage 'atoms_4':\n",
      "> python3 -c \"from znlib.atomistic.ase import FileToASE; FileToASE.load(name='atoms_4').run_and_save()\" \n",
      "Reading File: 1it [00:00, 14.78it/s]\n",
      "Writing atoms to nodes/atoms_4/atoms.db: 100%|████| 1/1 [00:00<00:00, 13.13it/s]\n",
      "  0% Transferring|                                   |0/1 [00:00<?,     ?file/s]\n",
      "!\u001b[A\n",
      "  0%|          |atoms.db                           0.00/? [00:00<?,        ?B/s]\u001b[A\n",
      "Updating lock file 'dvc.lock'                                                   \u001b[A\n",
      "\n",
      "Running stage 'cp2k_4':\n",
      "> python3 -c \"from znlib.atomistic.cp2k import CP2KNode; CP2KNode.load(name='cp2k_4').run_and_save()\" \n",
      "Writing atoms to nodes/cp2k_4/outputs.db: 100%|███| 1/1 [00:00<00:00, 10.44it/s]\n",
      "  0% Transferring|                                   |0/4 [00:00<?,     ?file/s]\n",
      "!\u001b[A\n",
      "  0%|          |cp2k.inp                           0.00/? [00:00<?,        ?B/s]\u001b[A\n",
      "                                                                                \u001b[A\n",
      "!\u001b[A\n",
      "  0%|          |cp2k.out                           0.00/? [00:00<?,        ?B/s]\u001b[A\n",
      "                                                                                \u001b[A\n",
      "  0%|          |cp2k-RESTART.wfn                   0.00/? [00:00<?,        ?B/s]\u001b[A\n",
      "                                                                                \u001b[A\n",
      "!\u001b[A\n",
      "  0%|          |memory://.fJAbLZM53Dc3RFeJC7LWqa.tm0.00/? [00:00<?,        ?B/s]\u001b[A\n",
      "  0%|          |memory://.fJAbLZM53Dc3RFeJC7LWqa.0.00/294 [00:00<?,        ?B/s]\u001b[A\n",
      "\n",
      "!\u001b[A\u001b[A\n",
      "\n",
      "  0%|          |.fJAbLZM53Dc3RFeJC7LWqa.tmp        0.00/? [00:00<?,        ?B/s]\u001b[A\u001b[A\n",
      "                                                                                \u001b[A\n",
      "\n",
      "  0% Transferring|                                   |0/1 [00:00<?,     ?file/s]\u001b[A\u001b[A\n",
      "!\u001b[A\n",
      "  0%|          |outputs.db                         0.00/? [00:00<?,        ?B/s]\u001b[A\n",
      "Updating lock file 'dvc.lock'                                                   \u001b[A\n",
      "\n",
      "Running stage 'atoms_3':\n",
      "> python3 -c \"from znlib.atomistic.ase import FileToASE; FileToASE.load(name='atoms_3').run_and_save()\" \n",
      "Reading File: 1it [00:00, 11.63it/s]\n",
      "Writing atoms to nodes/atoms_3/atoms.db: 100%|████| 1/1 [00:00<00:00, 10.02it/s]\n",
      "  0% Transferring|                                   |0/1 [00:00<?,     ?file/s]\n",
      "!\u001b[A\n",
      "  0%|          |atoms.db                           0.00/? [00:00<?,        ?B/s]\u001b[A\n",
      "Updating lock file 'dvc.lock'                                                   \u001b[A\n",
      "\n",
      "Running stage 'atoms_1':\n",
      "> python3 -c \"from znlib.atomistic.ase import FileToASE; FileToASE.load(name='atoms_1').run_and_save()\" \n",
      "Reading File: 1it [00:00,  8.77it/s]\n",
      "Writing atoms to nodes/atoms_1/atoms.db: 100%|████| 1/1 [00:00<00:00,  8.55it/s]\n",
      "  0% Transferring|                                   |0/1 [00:00<?,     ?file/s]\n",
      "!\u001b[A\n",
      "  0%|          |atoms.db                           0.00/? [00:00<?,        ?B/s]\u001b[A\n",
      "Updating lock file 'dvc.lock'                                                   \u001b[A\n",
      "\n",
      "Running stage 'cp2k_1':\n",
      "> python3 -c \"from znlib.atomistic.cp2k import CP2KNode; CP2KNode.load(name='cp2k_1').run_and_save()\" \n",
      "Writing atoms to nodes/cp2k_1/outputs.db: 100%|███| 1/1 [00:00<00:00, 12.10it/s]\n",
      "  0% Transferring|                                   |0/4 [00:00<?,     ?file/s]\n",
      "!\u001b[A\n",
      "  0%|          |cp2k.out                           0.00/? [00:00<?,        ?B/s]\u001b[A\n",
      "\n",
      "  0%|          |cp2k.inp                           0.00/? [00:00<?,        ?B/s]\u001b[A\u001b[A\n",
      "                                                                                \u001b[A\n",
      "\n",
      "                                                                                \u001b[A\u001b[A\n",
      "  0%|          |cp2k-RESTART.wfn                   0.00/? [00:00<?,        ?B/s]\u001b[A\n",
      " 50% Transferring|███████████████▌               |2/4 [00:00<00:00,  5.02file/s]\u001b[A\n",
      "!\u001b[A\n",
      "  0%|          |memory://.DrZG9cdepxXEgwdWvFAbAL.tm0.00/? [00:00<?,        ?B/s]\u001b[A\n",
      "  0%|          |memory://.DrZG9cdepxXEgwdWvFAbAL.0.00/294 [00:00<?,        ?B/s]\u001b[A\n",
      "\n",
      "!\u001b[A\u001b[A\n",
      "\n",
      "  0%|          |.DrZG9cdepxXEgwdWvFAbAL.tmp        0.00/? [00:00<?,        ?B/s]\u001b[A\u001b[A\n",
      "                                                                                \u001b[A\n",
      "\n",
      "  0% Transferring|                                   |0/1 [00:00<?,     ?file/s]\u001b[A\u001b[A\n",
      "!\u001b[A\n",
      "  0%|          |outputs.db                         0.00/? [00:00<?,        ?B/s]\u001b[A\n",
      "Updating lock file 'dvc.lock'                                                   \u001b[A\n",
      "\n",
      "Running stage 'atoms_2':\n",
      "> python3 -c \"from znlib.atomistic.ase import FileToASE; FileToASE.load(name='atoms_2').run_and_save()\" \n",
      "Reading File: 1it [00:00, 12.48it/s]\n",
      "Writing atoms to nodes/atoms_2/atoms.db: 100%|████| 1/1 [00:00<00:00, 12.86it/s]\n",
      "  0% Transferring|                                   |0/1 [00:00<?,     ?file/s]\n",
      "!\u001b[A\n",
      "  0%|          |atoms.db                           0.00/? [00:00<?,        ?B/s]\u001b[A\n",
      "Updating lock file 'dvc.lock'                                                   \u001b[A\n",
      "\n",
      "Running stage 'cp2k_3':\n",
      "> python3 -c \"from znlib.atomistic.cp2k import CP2KNode; CP2KNode.load(name='cp2k_3').run_and_save()\" \n",
      "Writing atoms to nodes/cp2k_3/outputs.db: 100%|███| 1/1 [00:00<00:00, 11.61it/s]\n",
      "  0% Transferring|                                   |0/4 [00:00<?,     ?file/s]\n",
      "!\u001b[A\n",
      "  0%|          |cp2k.out                           0.00/? [00:00<?,        ?B/s]\u001b[A\n",
      "                                                                                \u001b[A\n",
      "  0%|          |cp2k-RESTART.wfn                   0.00/? [00:00<?,        ?B/s]\u001b[A\n",
      "                                                                                \u001b[A\n",
      "!\u001b[A\n",
      "  0%|          |cp2k.inp                           0.00/? [00:00<?,        ?B/s]\u001b[A\n",
      "                                                                                \u001b[A\n",
      "!\u001b[A\n",
      "  0%|          |memory://.XViKubFypMGgZB5RoHAd79.tm0.00/? [00:00<?,        ?B/s]\u001b[A\n",
      "  0%|          |memory://.XViKubFypMGgZB5RoHAd79.0.00/294 [00:00<?,        ?B/s]\u001b[A\n",
      "\n",
      "!\u001b[A\u001b[A\n",
      "\n",
      "  0%|          |.XViKubFypMGgZB5RoHAd79.tmp        0.00/? [00:00<?,        ?B/s]\u001b[A\u001b[A\n",
      "                                                                                \u001b[A\n",
      "\n",
      "  0% Transferring|                                   |0/1 [00:00<?,     ?file/s]\u001b[A\u001b[A\n",
      "!\u001b[A\n",
      "  0%|          |outputs.db                         0.00/? [00:00<?,        ?B/s]\u001b[A\n",
      "Updating lock file 'dvc.lock'                                                   \u001b[A\n",
      "\n",
      "Running stage 'cp2k_2':\n",
      "> python3 -c \"from znlib.atomistic.cp2k import CP2KNode; CP2KNode.load(name='cp2k_2').run_and_save()\" \n",
      "Writing atoms to nodes/cp2k_2/outputs.db: 100%|███| 1/1 [00:00<00:00, 12.50it/s]\n",
      "  0% Transferring|                                   |0/4 [00:00<?,     ?file/s]\n",
      "!\u001b[A\n",
      "  0%|          |cp2k-RESTART.wfn                   0.00/? [00:00<?,        ?B/s]\u001b[A\n",
      "\n",
      "  0%|          |cp2k.out                           0.00/? [00:00<?,        ?B/s]\u001b[A\u001b[A\n",
      "                                                                                \u001b[A\n",
      "  0%|          |cp2k.inp                           0.00/? [00:00<?,        ?B/s]\u001b[A\n",
      "\n",
      "                                                                                \u001b[A\u001b[A\n",
      "                                                                                \u001b[A\n",
      "!\u001b[A\n",
      "  0%|          |memory://.UYLWcc7Xy34XVyxzWh48vV.tm0.00/? [00:00<?,        ?B/s]\u001b[A\n",
      "  0%|          |memory://.UYLWcc7Xy34XVyxzWh48vV.0.00/294 [00:00<?,        ?B/s]\u001b[A\n",
      "\n",
      "!\u001b[A\u001b[A\n",
      "\n",
      "  0%|          |.UYLWcc7Xy34XVyxzWh48vV.tmp        0.00/? [00:00<?,        ?B/s]\u001b[A\u001b[A\n",
      "                                                                                \u001b[A\n",
      "\n",
      "  0% Transferring|                                   |0/1 [00:00<?,     ?file/s]\u001b[A\u001b[A\n",
      "!\u001b[A\n",
      "  0%|          |outputs.db                         0.00/? [00:00<?,        ?B/s]\u001b[A\n",
      "Updating lock file 'dvc.lock'                                                   \u001b[A\n",
      "\n",
      "To track the changes with git, run:\n",
      "\n",
      "\tgit add dvc.lock\n",
      "\n",
      "To enable auto staging, run:\n",
      "\n",
      "\tdvc config core.autostage true\n",
      "Use `dvc push` to send your updates to remote storage.\n",
      "\u001b[0m"
     ]
    }
   ],
   "source": [
    "!dvc repro"
   ]
  },
  {
   "cell_type": "markdown",
   "id": "23008ae8-a15b-4a90-bcc5-9f194a48dbda",
   "metadata": {},
   "source": [
    "We can use `dvc dag --mermaid` to visualize the graph in the mermaid format and visualize it e.g. with https://mermaid.live/"
   ]
  },
  {
   "cell_type": "markdown",
   "id": "cbdd364e-df5d-4542-9469-85dcbc333bc6",
   "metadata": {},
   "source": [
    "[![](https://mermaid.ink/img/pako:eNp1k7FuwyAURX8lenNSGdupEw-dsnZKppaqejI4QbHBwrhVFeXfS1JDVaBM5pw33HeFL9AoxqGGtlOfzQm1WRx2VC7mI60krxTQqH58zyi8_XW5dyRyhXd55ErvisitvSsj92hdo2QrjpNGI5QcH9hHE41Vt7EhPycSb5yKA2-divOSzLk4LyHOxXnJavV0DxTUNuNN0NiMt0FZMyZZUJTjJCjJ8TTO07hI4zKN10Hh6YWq9ELVPwt5TmAJPdc9Cmaf5uU2RcGceM8p1PaT8RanzlCg8mpHcTJq_yUbqI2e-BKmgaHhO4FHjT3ULXajpQPKF6V-75wJo_Tzz_O__wXXb1mO37E?type=png)](https://mermaid.live/edit#pako:eNp1k7FuwyAURX8lenNSGdupEw-dsnZKppaqejI4QbHBwrhVFeXfS1JDVaBM5pw33HeFL9AoxqGGtlOfzQm1WRx2VC7mI60krxTQqH58zyi8_XW5dyRyhXd55ErvisitvSsj92hdo2QrjpNGI5QcH9hHE41Vt7EhPycSb5yKA2-divOSzLk4LyHOxXnJavV0DxTUNuNN0NiMt0FZMyZZUJTjJCjJ8TTO07hI4zKN10Hh6YWq9ELVPwt5TmAJPdc9Cmaf5uU2RcGceM8p1PaT8RanzlCg8mpHcTJq_yUbqI2e-BKmgaHhO4FHjT3ULXajpQPKF6V-75wJo_Tzz_O__wXXb1mO37E)"
   ]
  },
  {
   "cell_type": "markdown",
   "id": "4bfc3fbb-3358-4226-a2db-04b7ec13cd92",
   "metadata": {},
   "source": [
    "# Add to the Workflow\n",
    "\n",
    "Let us add another configuration using ASE"
   ]
  },
  {
   "cell_type": "code",
   "execution_count": 8,
   "id": "53f06c9e-08dc-4201-979c-27d1a2cc6456",
   "metadata": {},
   "outputs": [],
   "source": [
    "file = pathlib.Path(\"configurations\", f\"005.extxyz\")\n",
    "atoms.rattle(stdev=0.01)\n",
    "ase.io.write(file, atoms)"
   ]
  },
  {
   "cell_type": "code",
   "execution_count": null,
   "id": "70078d89-4820-4a15-8cd3-fe870de8d608",
   "metadata": {
    "tags": []
   },
   "outputs": [
    {
     "name": "stdout",
     "output_type": "stream",
     "text": [
      "\u001b[2K\u001b[32m⠼\u001b[0m Checking graph                                                   \u001b[32m⠋\u001b[0m Checking graph\n",
      "Adding...                                                                       \n",
      "!\u001b[A\n",
      "Building data objects from configurations             |0.00 [00:00,      ?obj/s]\u001b[A\n",
      "                                                                                \u001b[A\n",
      "!\u001b[A\n",
      "Building data objects from configurations             |0.00 [00:00,      ?obj/s]\u001b[A\n",
      "                                                                                \u001b[A\n",
      "!\u001b[A\n",
      "  0% Checking cache in '/tikhome/fzills/PycharmProjects/CP2K_Example/.dvc/cache'\u001b[A\n",
      "                                                                                \u001b[A\n",
      "!\u001b[A\n",
      "Building data objects from configurations             |0.00 [00:00,      ?obj/s]\u001b[A\n",
      "                                                                                \u001b[A"
     ]
    }
   ],
   "source": [
    "# Add the new file to DVC as well\n",
    "!dvc add configurations/"
   ]
  },
  {
   "cell_type": "markdown",
   "id": "151a08ad-5492-4dac-8077-9fe77e495e90",
   "metadata": {},
   "source": [
    "We will now add the File to our Graph and use CP2K once more to compute the energy."
   ]
  },
  {
   "cell_type": "code",
   "execution_count": null,
   "id": "fdadfb3f-1c79-4d3f-ae8d-54c0b66789a0",
   "metadata": {},
   "outputs": [],
   "source": [
    "data = znlib.atomistic.FileToASE(file=file, name=\"atoms_5\")\n",
    "cp2k = znlib.atomistic.CP2KNode(\n",
    "            atoms=data @ \"atoms\",\n",
    "            input_file=\"cp2k.yaml\",\n",
    "            dependencies=[\"BASIS_SET\", \"GTH_POTENTIALS\"],\n",
    "            wfn_restart=cp2k_nodes[0].wfn_restart_file,\n",
    "            name=\"cp2k_5\",\n",
    "        )\n",
    "data.write_graph()\n",
    "cp2k.write_graph()"
   ]
  },
  {
   "cell_type": "markdown",
   "id": "0665a7bf-10b7-45f4-b128-dd806f3981da",
   "metadata": {},
   "source": [
    "Now can run the graph and look at the results."
   ]
  },
  {
   "cell_type": "code",
   "execution_count": null,
   "id": "10f9fae2-7047-4078-b9e2-d072e1b21d4e",
   "metadata": {
    "tags": []
   },
   "outputs": [],
   "source": [
    "!dvc repro"
   ]
  },
  {
   "cell_type": "code",
   "execution_count": null,
   "id": "d346fccc-db1b-4320-b384-2ab1fa7418e6",
   "metadata": {},
   "outputs": [],
   "source": [
    "cp2k = znlib.atomistic.CP2KNode[\"cp2k_5\"]"
   ]
  },
  {
   "cell_type": "code",
   "execution_count": null,
   "id": "a1a98dcf-dc2a-41cc-ad34-535a1889b34c",
   "metadata": {},
   "outputs": [],
   "source": [
    "cp2k.outputs[0].get_potential_energy()"
   ]
  },
  {
   "cell_type": "markdown",
   "id": "d815f88c-2c9b-49c2-b186-2f2fb01788dd",
   "metadata": {},
   "source": [
    "# Analysis\n",
    "\n",
    "Assuming that the initial coordinates where close to an equilibrium. We would expect with `Atoms.rattle` to increase the energy.\n",
    "If we plot the energy we can verify our assumption. "
   ]
  },
  {
   "cell_type": "code",
   "execution_count": null,
   "id": "16640aef-ef45-4cf9-9ecd-b3368584a9da",
   "metadata": {},
   "outputs": [],
   "source": [
    "energies = [x.load(x.node_name).outputs[0].get_potential_energy() for x in cp2k_nodes]"
   ]
  },
  {
   "cell_type": "code",
   "execution_count": null,
   "id": "4e67871d-7e19-4e61-a077-4dd4cbfb84e4",
   "metadata": {},
   "outputs": [],
   "source": [
    "import matplotlib.pyplot as plt"
   ]
  },
  {
   "cell_type": "code",
   "execution_count": null,
   "id": "ff6e8190-c016-44a0-9938-4d6d05fcf539",
   "metadata": {},
   "outputs": [],
   "source": [
    "fig, ax = plt.subplots()\n",
    "ax.plot(energies, \"x\")\n",
    "ax.set_ylabel(\"Energy / eV\")\n",
    "ax.set_xlabel(\"Deviation from equilibrium / a.u.\")"
   ]
  }
 ],
 "metadata": {
  "kernelspec": {
   "display_name": "Python 3 (ipykernel)",
   "language": "python",
   "name": "python3"
  },
  "language_info": {
   "codemirror_mode": {
    "name": "ipython",
    "version": 3
   },
   "file_extension": ".py",
   "mimetype": "text/x-python",
   "name": "python",
   "nbconvert_exporter": "python",
   "pygments_lexer": "ipython3",
   "version": "3.10.6"
  }
 },
 "nbformat": 4,
 "nbformat_minor": 5
}
