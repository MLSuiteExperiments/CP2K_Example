{
 "cells": [
  {
   "cell_type": "code",
   "execution_count": 10,
   "id": "591014a7-1ffe-4bb0-8055-77e42e2cc0ef",
   "metadata": {},
   "outputs": [],
   "source": [
    "import znlib\n",
    "import pathlib\n",
    "import zntrack"
   ]
  },
  {
   "cell_type": "markdown",
   "id": "0c98ed28-35da-4f0b-aa64-44752ba107d7",
   "metadata": {},
   "source": [
    "# 1. Create some data using ASE"
   ]
  },
  {
   "cell_type": "markdown",
   "id": "c813b03c-0060-48d1-8992-0728548d4efb",
   "metadata": {},
   "source": [
    "## Using the DVC Cache\n",
    "We don't want to have the data in our repository so we use `dvc add <files>` to track them with DVC. "
   ]
  },
  {
   "cell_type": "code",
   "execution_count": 31,
   "id": "bcda816d-2606-4e45-8aa8-02cb2c90cbda",
   "metadata": {
    "tags": []
   },
   "outputs": [
    {
     "name": "stderr",
     "output_type": "stream",
     "text": [
      "The File you are adding as a dependency does not seem to be tracked by DVC. Please run 'dvc add configurations/training_750.extxyz' to avoid tracking the file directly with GIT.\n",
      "The File you are adding as a dependency does not seem to be tracked by DVC. Please run 'dvc add configurations/training_027.extxyz' to avoid tracking the file directly with GIT.\n",
      "The File you are adding as a dependency does not seem to be tracked by DVC. Please run 'dvc add configurations/training_623.extxyz' to avoid tracking the file directly with GIT.\n",
      "The File you are adding as a dependency does not seem to be tracked by DVC. Please run 'dvc add configurations/training_302.extxyz' to avoid tracking the file directly with GIT.\n",
      "The File you are adding as a dependency does not seem to be tracked by DVC. Please run 'dvc add configurations/training_212.extxyz' to avoid tracking the file directly with GIT.\n",
      "The File you are adding as a dependency does not seem to be tracked by DVC. Please run 'dvc add configurations/training_780.extxyz' to avoid tracking the file directly with GIT.\n",
      "The File you are adding as a dependency does not seem to be tracked by DVC. Please run 'dvc add configurations/training_738.extxyz' to avoid tracking the file directly with GIT.\n",
      "The File you are adding as a dependency does not seem to be tracked by DVC. Please run 'dvc add configurations/training_311.extxyz' to avoid tracking the file directly with GIT.\n",
      "The File you are adding as a dependency does not seem to be tracked by DVC. Please run 'dvc add configurations/training_029.extxyz' to avoid tracking the file directly with GIT.\n",
      "The File you are adding as a dependency does not seem to be tracked by DVC. Please run 'dvc add configurations/training_397.extxyz' to avoid tracking the file directly with GIT.\n",
      "The File you are adding as a dependency does not seem to be tracked by DVC. Please run 'dvc add configurations/training_432.extxyz' to avoid tracking the file directly with GIT.\n"
     ]
    }
   ],
   "source": [
    "data_nodes = []\n",
    "cp2k_nodes = []\n",
    "\n",
    "for idx, file in enumerate(pathlib.Path(\"configurations/\").glob(\"*.extxyz\")):\n",
    "    data_node_name = f\"train_atoms_{idx}\"\n",
    "    data = znlib.atomistic.FileToASE(file=file, name=data_node_name)\n",
    "    data_nodes.append(data)\n",
    "    cp2k = znlib.atomistic.CP2KNode(\n",
    "            atoms=data @ \"atoms\",\n",
    "            input_file=\"cp2k.yaml\",\n",
    "            dependencies=[\"BASIS_SET\", \"GTH_POTENTIALS\"],\n",
    "            wfn_restart=cp2k_nodes[0].wfn_restart_file if len(cp2k_nodes) > 0 else None,\n",
    "            name=f\"train_cp2k_{idx}\",\n",
    "            cp2k_shell=\"mpirun cp2k_shell.psmp\"\n",
    "        )\n",
    "    cp2k_nodes.append(cp2k)\n",
    "    if idx > 9:\n",
    "        break"
   ]
  },
  {
   "cell_type": "markdown",
   "id": "869a7e57-b1e0-4645-b235-e0f466056eae",
   "metadata": {},
   "source": [
    "[![](https://mermaid.ink/img/pako:eNp1lctuwjAQRX8FeQ0I23kvuqLLrtpVmwpZiQNRiY2C06pC_HsNxSDP2FmhM8eR7h0Rn0ijW0kq0u31T7MTo5m9rWs1uz3KDulHbSXV9dtpFKbX6rhsv5uafPoas5oZRa82wujhuFkhgwODIiOBBn5JChSGjAwYHBk5MBJkFMBIkVECI0MGXQElxwoFSoEV2GuJlUexzYF9BZqniW_g5mkKjMBLMl_BzdPcN3DztPAN3DwtfQM3z1a-gZtn1Ddw8Yz5Bu6dgVIDtS8WT1czjHkYJ2GchnEWxnkYF2FchrFdcZjTCAdBmeMgKXccRE0cB1lTx0HYzHGQNnccxC0cB3lLtyeYd-UGMPB9s3C1LjKDy41lfgzS2CCLDfLYoIgNysgAJeex5DyWnEeSs8uXpe1My5etMLeLgczJIMdB9K29WE6XA_avtJODrEllf7ayE9Pe1KRWZ6tOB3tSPre90SOpzDjJORGT0a-_qiFVJ_ZH6aR1L7ajGO5UXg-9_N9g14tsTg5CvWvtnPMfAbr7Sg?type=png)](https://mermaid.live/edit#pako:eNp1lctuwjAQRX8FeQ0I23kvuqLLrtpVmwpZiQNRiY2C06pC_HsNxSDP2FmhM8eR7h0Rn0ijW0kq0u31T7MTo5m9rWs1uz3KDulHbSXV9dtpFKbX6rhsv5uafPoas5oZRa82wujhuFkhgwODIiOBBn5JChSGjAwYHBk5MBJkFMBIkVECI0MGXQElxwoFSoEV2GuJlUexzYF9BZqniW_g5mkKjMBLMl_BzdPcN3DztPAN3DwtfQM3z1a-gZtn1Ddw8Yz5Bu6dgVIDtS8WT1czjHkYJ2GchnEWxnkYF2FchrFdcZjTCAdBmeMgKXccRE0cB1lTx0HYzHGQNnccxC0cB3lLtyeYd-UGMPB9s3C1LjKDy41lfgzS2CCLDfLYoIgNysgAJeex5DyWnEeSs8uXpe1My5etMLeLgczJIMdB9K29WE6XA_avtJODrEllf7ayE9Pe1KRWZ6tOB3tSPre90SOpzDjJORGT0a-_qiFVJ_ZH6aR1L7ajGO5UXg-9_N9g14tsTg5CvWvtnPMfAbr7Sg)"
   ]
  },
  {
   "cell_type": "markdown",
   "id": "5b881c3d-0bce-4609-881e-78e014cd0bd1",
   "metadata": {},
   "source": [
    "We write the graph for all the Nodes we created so far."
   ]
  },
  {
   "cell_type": "code",
   "execution_count": 32,
   "id": "6924196f-5aae-4393-bbf8-36b09221ce2c",
   "metadata": {},
   "outputs": [
    {
     "name": "stdout",
     "output_type": "stream",
     "text": [
      "Skipping existing Node train_atoms_0\n",
      "Skipping existing Node train_atoms_1\n",
      "Skipping existing Node train_atoms_2\n",
      "Skipping existing Node train_atoms_3\n",
      "Skipping existing Node train_atoms_4\n",
      "Skipping existing Node train_atoms_5\n",
      "Skipping existing Node train_atoms_6\n",
      "Skipping existing Node train_atoms_7\n",
      "Skipping existing Node train_atoms_8\n",
      "2022-11-14 17:52:11,269 (WARNING): Running DVC command: 'dvc stage add -n train_atoms_9 ...'\n",
      "2022-11-14 17:52:14,382 (WARNING): Running DVC command: 'dvc stage add -n train_atoms_10 ...'\n"
     ]
    }
   ],
   "source": [
    "for node in data_nodes:\n",
    "    try:\n",
    "        node.load(node.node_name).file\n",
    "        print(f\"Skipping existing Node {node.node_name}\")\n",
    "    except zntrack.exceptions.GraphNotAvailableError:\n",
    "        node.write_graph()"
   ]
  },
  {
   "cell_type": "code",
   "execution_count": 33,
   "id": "40a04143-2852-42e1-9918-338e594a9294",
   "metadata": {},
   "outputs": [
    {
     "name": "stdout",
     "output_type": "stream",
     "text": [
      "Skipping existing Node train_cp2k_0\n",
      "Skipping existing Node train_cp2k_1\n",
      "Skipping existing Node train_cp2k_2\n",
      "Skipping existing Node train_cp2k_3\n",
      "Skipping existing Node train_cp2k_4\n",
      "Skipping existing Node train_cp2k_5\n",
      "Skipping existing Node train_cp2k_6\n",
      "Skipping existing Node train_cp2k_7\n",
      "Skipping existing Node train_cp2k_8\n",
      "2022-11-14 17:52:17,342 (WARNING): Running DVC command: 'dvc stage add -n train_cp2k_9 ...'\n",
      "2022-11-14 17:52:19,825 (WARNING): Running DVC command: 'dvc stage add -n train_cp2k_10 ...'\n"
     ]
    }
   ],
   "source": [
    "for node in cp2k_nodes:\n",
    "    try:\n",
    "        node.load(node.node_name).input_file\n",
    "        print(f\"Skipping existing Node {node.node_name}\")\n",
    "    except zntrack.exceptions.GraphNotAvailableError:\n",
    "        node.write_graph()"
   ]
  },
  {
   "cell_type": "markdown",
   "id": "decd79a4-c57a-44bf-9042-5bcb9737bb87",
   "metadata": {},
   "source": [
    "# Loading results"
   ]
  },
  {
   "cell_type": "code",
   "execution_count": 10,
   "id": "714c12a5-26a3-47ee-9d71-2b1b3ae1f020",
   "metadata": {},
   "outputs": [
    {
     "data": {
      "text/plain": [
       "-45348.241718091755"
      ]
     },
     "execution_count": 10,
     "metadata": {},
     "output_type": "execute_result"
    }
   ],
   "source": [
    "znlib.atomistic.CP2KNode[\"train_cp2k_0\"].atoms[0].get_potential_energy()"
   ]
  },
  {
   "cell_type": "code",
   "execution_count": 8,
   "id": "7ca175c3-7e1d-4e0e-bbf7-e122a7eb50b7",
   "metadata": {},
   "outputs": [
    {
     "data": {
      "text/plain": [
       "-45348.23811269"
      ]
     },
     "execution_count": 8,
     "metadata": {},
     "output_type": "execute_result"
    }
   ],
   "source": [
    "znlib.atomistic.CP2KNode[\"train_cp2k_0\"].outputs[0].get_potential_energy()"
   ]
  },
  {
   "cell_type": "code",
   "execution_count": 11,
   "id": "560e0fdf-a411-4baf-a849-8dbf7215b878",
   "metadata": {},
   "outputs": [
    {
     "data": {
      "text/plain": [
       "-45347.69529318254"
      ]
     },
     "execution_count": 11,
     "metadata": {},
     "output_type": "execute_result"
    }
   ],
   "source": [
    "znlib.atomistic.CP2KNode[\"train_cp2k_1\"].atoms[0].get_potential_energy()"
   ]
  },
  {
   "cell_type": "code",
   "execution_count": 9,
   "id": "ea6e8c57-a236-4344-8b3c-b7c17d903358",
   "metadata": {},
   "outputs": [
    {
     "data": {
      "text/plain": [
       "-45347.691687527"
      ]
     },
     "execution_count": 9,
     "metadata": {},
     "output_type": "execute_result"
    }
   ],
   "source": [
    "znlib.atomistic.CP2KNode[\"train_cp2k_1\"].outputs[0].get_potential_energy()"
   ]
  },
  {
   "cell_type": "code",
   "execution_count": 12,
   "id": "ca8aaba4-bf9c-4e30-a21b-b62872a14495",
   "metadata": {},
   "outputs": [
    {
     "data": {
      "text/plain": [
       "array([-4.02262995e-03,  5.74352935e-04,  5.54818180e-05, -3.76227267e-04,\n",
       "        1.41195914e-03,  2.45968925e-03])"
      ]
     },
     "execution_count": 12,
     "metadata": {},
     "output_type": "execute_result"
    }
   ],
   "source": [
    "znlib.atomistic.CP2KNode[\"train_cp2k_1\"].outputs[0].get_stress()"
   ]
  },
  {
   "cell_type": "code",
   "execution_count": null,
   "id": "7571ce12-0a1a-4cab-ba10-72f10db767e8",
   "metadata": {},
   "outputs": [],
   "source": []
  }
 ],
 "metadata": {
  "kernelspec": {
   "display_name": "Python 3 (ipykernel)",
   "language": "python",
   "name": "python3"
  },
  "language_info": {
   "codemirror_mode": {
    "name": "ipython",
    "version": 3
   },
   "file_extension": ".py",
   "mimetype": "text/x-python",
   "name": "python",
   "nbconvert_exporter": "python",
   "pygments_lexer": "ipython3",
   "version": "3.10.6"
  }
 },
 "nbformat": 4,
 "nbformat_minor": 5
}
